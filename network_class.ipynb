{
 "cells": [
  {
   "cell_type": "code",
   "execution_count": 1,
   "metadata": {},
   "outputs": [],
   "source": [
    "import numpy as np"
   ]
  },
  {
   "cell_type": "code",
   "execution_count": 28,
   "metadata": {},
   "outputs": [],
   "source": [
    "#class HMN():\n",
    "#    pass\n",
    "class HMN1():\n",
    "    '''This is a class for constructing jmn networks'''\n",
    "    def __init__(self,m0,h,b,ln):\n",
    "        self.b=b\n",
    "        self.h=h\n",
    "        self.m0=m0\n",
    "        self.ln=ln\n",
    "        self.nm=b**h\n",
    "        self.n=m0*self.nm\n",
    "        self.adjM=np.zeros((self.n, self.n))\n",
    "        self.mc_connected=False\n",
    "    def mc_all2all(self):\n",
    "        for i in range(self.nm):\n",
    "            mo_beg=i*self.m0\n",
    "            mo_end=(i+1)*self.m0\n",
    "            for j in range(mo_beg,mo_end):\n",
    "                for k in range(mo_beg,mo_end):\n",
    "                    self.adjM[j][k]=1\n",
    "                self.adjM[j][j]=0\n",
    "        self.mc_connected=True\n",
    "    def mc_line(self):\n",
    "        for i in range(self.nm):\n",
    "            mo_beg=i*self.m0\n",
    "            mo_end=(i+1)*self.m0\n",
    "            for j in range(mo_beg,mo_end-1):\n",
    "                self.adjM[j][j+1]=1\n",
    "                self.adjM[j+1][j]=1\n",
    "        self.mc_connected=True\n",
    "    def mc_ring(self):\n",
    "        for i in range(self.nm):\n",
    "            mo_beg=i*self.m0\n",
    "            mo_end=(i+1)*self.m0\n",
    "            for j in range(mo_beg,mo_end-1):\n",
    "                self.adjM[j][j+1]=1\n",
    "                self.adjM[j+1][j]=1\n",
    "            self.adjM[mo_beg][mo_end-1]=1\n",
    "            self.adjM[mo_end-1][mo_beg]=1\n",
    "        self.mc_connected=True\n",
    "    def mc_random(self,avg_con):\n",
    "        link_num=int(avg_con*self.nm)\n",
    "        if link_num>0:\n",
    "            for i in range(self.nm):\n",
    "                mo_beg=i*self.m0\n",
    "                mo_end=(i+1)*self.m0\n",
    "                nc=0\n",
    "                while nc<link_num:\n",
    "                    r1=0\n",
    "                    r2=0\n",
    "                    while r1==r2:\n",
    "                        r1=np.random.randint(mo_beg,mo_end)\n",
    "                        r2=np.random.randint(mo_beg,mo_end)\n",
    "                    if(self.adjM[r1][r2]==0):\n",
    "                        self.adjM[r1][r2]=1\n",
    "                        self.adjM[r2][r1]=1\n",
    "                        nc+=1\n",
    "            self.mc_connected=True\n",
    "        else:\n",
    "            print('ERROR in avrage connectivity')\n",
    "    def interMc(self):\n",
    "        if self.mc_connected==True:\n",
    "            ll=self.h**2\n",
    "            ip=1\n",
    "            for i in range(self.h):\n",
    "                il=ip\n",
    "                ip=2*ip\n",
    "                for j in range(0,ll-il,ip):\n",
    "                    dis1B=j*self.m0\n",
    "                    dis1E=((j+il)*self.m0)-1\n",
    "                    dis2B=(j+il)*self.m0\n",
    "                    dis2E=((j+(2*il))*self.m0)-1\n",
    "                    print(i,j,dis1B,dis1E,dis2B,dis2E)\n",
    "                    nc=0# nubmer of intermodular links\n",
    "                    while nc<self.ln:\n",
    "                        r1=np.random.randint(dis1B,dis1E)\n",
    "                        r2=np.random.randint(dis2B,dis2E)\n",
    "                        if self.adjM[r1][r2]==0:\n",
    "                            self.adjM[r1][r2]=1\n",
    "                            self.adjM[r2][r1]=1\n",
    "                            nc+=1\n",
    "    \n",
    "    def run_hmn1(self):\n",
    "        self.mc_all2all()\n",
    "        self.interMc()\n",
    "        return self.adjM\n",
    "    \n",
    "    def run_hmn1_line(self):\n",
    "        self.mc_line()\n",
    "        self.interMc()\n",
    "        return self.adjM\n",
    "    \n",
    "    def run_hmn1_ring(self):\n",
    "        self.mc_ring()\n",
    "        self.interMc()\n",
    "        return self.adjM\n",
    "    \n",
    "    def run_hmn1_random(self,avgcon):\n",
    "        self.mc_random()\n",
    "        self.interMc()\n",
    "        return self.adjM"
   ]
  },
  {
   "cell_type": "code",
   "execution_count": 27,
   "metadata": {},
   "outputs": [
    {
     "name": "stdout",
     "output_type": "stream",
     "text": [
      "0 0 0 2 3 5\n"
     ]
    },
    {
     "ename": "NameError",
     "evalue": "name 'mc' is not defined",
     "output_type": "error",
     "traceback": [
      "\u001b[0;31m---------------------------------------------------------------------------\u001b[0m",
      "\u001b[0;31mNameError\u001b[0m                                 Traceback (most recent call last)",
      "\u001b[0;32m<ipython-input-27-cb079c28f643>\u001b[0m in \u001b[0;36m<module>\u001b[0;34m\u001b[0m\n\u001b[1;32m      1\u001b[0m \u001b[0mmynet\u001b[0m\u001b[0;34m=\u001b[0m\u001b[0mHMN1\u001b[0m\u001b[0;34m(\u001b[0m\u001b[0;36m3\u001b[0m\u001b[0;34m,\u001b[0m\u001b[0;36m2\u001b[0m\u001b[0;34m,\u001b[0m\u001b[0;36m2\u001b[0m\u001b[0;34m,\u001b[0m\u001b[0;36m2\u001b[0m\u001b[0;34m)\u001b[0m\u001b[0;34m\u001b[0m\u001b[0;34m\u001b[0m\u001b[0m\n\u001b[0;32m----> 2\u001b[0;31m \u001b[0mmynet\u001b[0m\u001b[0;34m.\u001b[0m\u001b[0mrun_hmn1\u001b[0m\u001b[0;34m(\u001b[0m\u001b[0;34m)\u001b[0m\u001b[0;34m\u001b[0m\u001b[0;34m\u001b[0m\u001b[0m\n\u001b[0m",
      "\u001b[0;32m<ipython-input-26-29f9441a15da>\u001b[0m in \u001b[0;36mrun_hmn1\u001b[0;34m(self)\u001b[0m\n\u001b[1;32m     83\u001b[0m     \u001b[0;32mdef\u001b[0m \u001b[0mrun_hmn1\u001b[0m\u001b[0;34m(\u001b[0m\u001b[0mself\u001b[0m\u001b[0;34m)\u001b[0m\u001b[0;34m:\u001b[0m\u001b[0;34m\u001b[0m\u001b[0;34m\u001b[0m\u001b[0m\n\u001b[1;32m     84\u001b[0m         \u001b[0mself\u001b[0m\u001b[0;34m.\u001b[0m\u001b[0mmc_all2all\u001b[0m\u001b[0;34m(\u001b[0m\u001b[0;34m)\u001b[0m\u001b[0;34m\u001b[0m\u001b[0;34m\u001b[0m\u001b[0m\n\u001b[0;32m---> 85\u001b[0;31m         \u001b[0mself\u001b[0m\u001b[0;34m.\u001b[0m\u001b[0minterMc\u001b[0m\u001b[0;34m(\u001b[0m\u001b[0;34m)\u001b[0m\u001b[0;34m\u001b[0m\u001b[0;34m\u001b[0m\u001b[0m\n\u001b[0m\u001b[1;32m     86\u001b[0m         \u001b[0;32mreturn\u001b[0m \u001b[0mself\u001b[0m\u001b[0;34m.\u001b[0m\u001b[0madjM\u001b[0m\u001b[0;34m\u001b[0m\u001b[0;34m\u001b[0m\u001b[0m\n\u001b[1;32m     87\u001b[0m \u001b[0;34m\u001b[0m\u001b[0m\n",
      "\u001b[0;32m<ipython-input-26-29f9441a15da>\u001b[0m in \u001b[0;36minterMc\u001b[0;34m(self)\u001b[0m\n\u001b[1;32m     73\u001b[0m                     \u001b[0mprint\u001b[0m\u001b[0;34m(\u001b[0m\u001b[0mi\u001b[0m\u001b[0;34m,\u001b[0m\u001b[0mj\u001b[0m\u001b[0;34m,\u001b[0m\u001b[0mdis1B\u001b[0m\u001b[0;34m,\u001b[0m\u001b[0mdis1E\u001b[0m\u001b[0;34m,\u001b[0m\u001b[0mdis2B\u001b[0m\u001b[0;34m,\u001b[0m\u001b[0mdis2E\u001b[0m\u001b[0;34m)\u001b[0m\u001b[0;34m\u001b[0m\u001b[0;34m\u001b[0m\u001b[0m\n\u001b[1;32m     74\u001b[0m                     \u001b[0mnc\u001b[0m\u001b[0;34m=\u001b[0m\u001b[0;36m0\u001b[0m\u001b[0;31m# nubmer of intermodular links\u001b[0m\u001b[0;34m\u001b[0m\u001b[0;34m\u001b[0m\u001b[0m\n\u001b[0;32m---> 75\u001b[0;31m                     \u001b[0;32mwhile\u001b[0m \u001b[0mmc\u001b[0m\u001b[0;34m<\u001b[0m\u001b[0mself\u001b[0m\u001b[0;34m.\u001b[0m\u001b[0mln\u001b[0m\u001b[0;34m:\u001b[0m\u001b[0;34m\u001b[0m\u001b[0;34m\u001b[0m\u001b[0m\n\u001b[0m\u001b[1;32m     76\u001b[0m                         \u001b[0mr1\u001b[0m\u001b[0;34m=\u001b[0m\u001b[0mnp\u001b[0m\u001b[0;34m.\u001b[0m\u001b[0mrandom\u001b[0m\u001b[0;34m.\u001b[0m\u001b[0mrandint\u001b[0m\u001b[0;34m(\u001b[0m\u001b[0mdis1B\u001b[0m\u001b[0;34m,\u001b[0m\u001b[0mdis1E\u001b[0m\u001b[0;34m)\u001b[0m\u001b[0;34m\u001b[0m\u001b[0;34m\u001b[0m\u001b[0m\n\u001b[1;32m     77\u001b[0m                         \u001b[0mr2\u001b[0m\u001b[0;34m=\u001b[0m\u001b[0mnp\u001b[0m\u001b[0;34m.\u001b[0m\u001b[0mrandom\u001b[0m\u001b[0;34m.\u001b[0m\u001b[0mrandint\u001b[0m\u001b[0;34m(\u001b[0m\u001b[0mdis2B\u001b[0m\u001b[0;34m,\u001b[0m\u001b[0mdis2E\u001b[0m\u001b[0;34m)\u001b[0m\u001b[0;34m\u001b[0m\u001b[0;34m\u001b[0m\u001b[0m\n",
      "\u001b[0;31mNameError\u001b[0m: name 'mc' is not defined"
     ]
    }
   ],
   "source": [
    "mynet=HMN1(3,2,2,2)\n",
    "mynet.run_hmn1()"
   ]
  },
  {
   "cell_type": "code",
   "execution_count": null,
   "metadata": {},
   "outputs": [],
   "source": []
  }
 ],
 "metadata": {
  "kernelspec": {
   "display_name": "Python 3",
   "language": "python",
   "name": "python3"
  },
  "language_info": {
   "codemirror_mode": {
    "name": "ipython",
    "version": 3
   },
   "file_extension": ".py",
   "mimetype": "text/x-python",
   "name": "python",
   "nbconvert_exporter": "python",
   "pygments_lexer": "ipython3",
   "version": "3.6.10"
  }
 },
 "nbformat": 4,
 "nbformat_minor": 4
}

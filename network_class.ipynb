{
 "cells": [
  {
   "cell_type": "code",
   "execution_count": 1,
   "metadata": {},
   "outputs": [],
   "source": [
    "import numpy as np"
   ]
  },
  {
   "cell_type": "code",
   "execution_count": 20,
   "metadata": {},
   "outputs": [],
   "source": [
    "#class HMN():\n",
    "#    pass\n",
    "class HMN1():\n",
    "    '''This is a class for constructing jmn networks'''\n",
    "    def __init__(self,m0,h,b,ln):\n",
    "        self.b=b\n",
    "        self.h=h\n",
    "        self.m0=m0\n",
    "        self.ln=ln\n",
    "        self.nm=b**h\n",
    "        self.n=m0*self.nm\n",
    "        self.adjM=np.zeros((self.n, self.n))\n",
    "        self.mc_connected=False\n",
    "    def mc(self):\n",
    "        for i in range(self.nm):\n",
    "            mo_beg=i*self.m0\n",
    "            mo_end=(i+1)*self.m0\n",
    "            for j in range(mo_beg,mo_end):\n",
    "                for k in range(mo_beg,mo_end):\n",
    "                    self.adjM[j][k]=1\n",
    "                self.adjM[j][j]=0\n",
    "        self.mc_connected=True\n",
    "    def interMc(self):\n",
    "        if self.mc_connected==True:\n",
    "            ll=self.h**2\n",
    "            ip=1\n",
    "            for i in range(self.h):\n",
    "                il=ip\n",
    "                ip=2*ip\n",
    "                for j in range(0,ll-il,ip):\n",
    "                    dis1B=j*self.m0\n",
    "                    dis1E=((j+il)*self.m0)-1\n",
    "                    dis2B=(j+il)*self.m0\n",
    "                    dis2E=((j+(2*il))*self.m0)-1\n",
    "                    print(i,j,dis1B,dis1E,dis2B,dis2E)\n",
    "                    mc=0# nubmer of intermodular links\n",
    "                    while mc<self.ln:\n",
    "                        r1=np.random.randint(dis1B,dis1E)\n",
    "                        r2=np.random.randint(dis2B,dis2E)\n",
    "                        if self.adjM[r1][r2]==0:\n",
    "                            self.adjM[r1][r2]=1\n",
    "                            self.adjM[r2][r1]=1\n",
    "                            mc+=1\n",
    "    def run(self):\n",
    "        self.mc()\n",
    "        self.interMc()\n",
    "        return self.adjM"
   ]
  },
  {
   "cell_type": "code",
   "execution_count": 22,
   "metadata": {},
   "outputs": [
    {
     "name": "stdout",
     "output_type": "stream",
     "text": [
      "0 0 0 2 3 5\n",
      "0 2 6 8 9 11\n",
      "1 0 0 5 6 11\n"
     ]
    },
    {
     "data": {
      "text/plain": [
       "array([[0., 1., 1., 1., 0., 0., 0., 0., 1., 0., 0., 0.],\n",
       "       [1., 0., 1., 1., 0., 0., 0., 0., 0., 0., 1., 0.],\n",
       "       [1., 1., 0., 0., 0., 0., 0., 0., 0., 0., 0., 0.],\n",
       "       [1., 1., 0., 0., 1., 1., 0., 0., 0., 0., 0., 0.],\n",
       "       [0., 0., 0., 1., 0., 1., 0., 0., 0., 0., 0., 0.],\n",
       "       [0., 0., 0., 1., 1., 0., 0., 0., 0., 0., 0., 0.],\n",
       "       [0., 0., 0., 0., 0., 0., 0., 1., 1., 0., 1., 0.],\n",
       "       [0., 0., 0., 0., 0., 0., 1., 0., 1., 1., 0., 0.],\n",
       "       [1., 0., 0., 0., 0., 0., 1., 1., 0., 0., 0., 0.],\n",
       "       [0., 0., 0., 0., 0., 0., 0., 1., 0., 0., 1., 1.],\n",
       "       [0., 1., 0., 0., 0., 0., 1., 0., 0., 1., 0., 1.],\n",
       "       [0., 0., 0., 0., 0., 0., 0., 0., 0., 1., 1., 0.]])"
      ]
     },
     "execution_count": 22,
     "metadata": {},
     "output_type": "execute_result"
    }
   ],
   "source": [
    "mynet=HMN1(3,2,2,2)\n",
    "mynet.run()"
   ]
  },
  {
   "cell_type": "code",
   "execution_count": null,
   "metadata": {},
   "outputs": [],
   "source": []
  }
 ],
 "metadata": {
  "kernelspec": {
   "display_name": "Python 3",
   "language": "python",
   "name": "python3"
  },
  "language_info": {
   "codemirror_mode": {
    "name": "ipython",
    "version": 3
   },
   "file_extension": ".py",
   "mimetype": "text/x-python",
   "name": "python",
   "nbconvert_exporter": "python",
   "pygments_lexer": "ipython3",
   "version": "3.6.10"
  }
 },
 "nbformat": 4,
 "nbformat_minor": 4
}
